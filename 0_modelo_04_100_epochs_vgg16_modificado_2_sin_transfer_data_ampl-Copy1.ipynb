{
 "cells": [
  {
   "cell_type": "markdown",
   "metadata": {},
   "source": [
    "Proyecto Poster - Red Clasificación Ropa\n",
    "=="
   ]
  },
  {
   "cell_type": "markdown",
   "metadata": {},
   "source": [
    "El objetivo de este trabajo es crear una red neuronal para clasificar vestimenta.  Este es el proyecto final de la clase Clasificación y Reconocimiento de Patrones de la Universidad Nacional de Colombia Medellin (2019-2020)"
   ]
  },
  {
   "cell_type": "markdown",
   "metadata": {},
   "source": [
    "### Cargue de librerias\n"
   ]
  },
  {
   "cell_type": "code",
   "execution_count": 2,
   "metadata": {},
   "outputs": [],
   "source": [
    "import numpy as np\n",
    "import pandas as pd\n",
    "import matplotlib.pyplot as plt\n",
    "import cv2\n",
    "import os\n",
    "from sklearn.metrics import confusion_matrix\n",
    "import warnings\n",
    "\n",
    "import tensorflow as tf\n",
    "from tensorflow.keras.layers import Input, Conv2D, Dense, Flatten, Dropout, GlobalMaxPooling2D, MaxPooling2D, BatchNormalization\n",
    "from tensorflow.keras.models import Model\n",
    "from tensorflow.keras.regularizers import l2\n",
    "from tensorflow.keras.metrics import categorical_accuracy, top_k_categorical_accuracy"
   ]
  },
  {
   "cell_type": "code",
   "execution_count": 2,
   "metadata": {},
   "outputs": [],
   "source": [
    "plt.style.use('ggplot')\n",
    "warnings.filterwarnings(\"ignore\")"
   ]
  },
  {
   "cell_type": "markdown",
   "metadata": {},
   "source": [
    "### Cargue de datos\n",
    "\n",
    "El conjunto de datos son 17117 imagenes de prendas de vestir clasificadas en 19 clases.  Este está desbalanceado, lo que implicará hacer ampliación de datos, para este ejercicio en particular, usaremos las funciones de open cv para crear más imagenes. "
   ]
  },
  {
   "cell_type": "code",
   "execution_count": 3,
   "metadata": {},
   "outputs": [
    {
     "data": {
      "text/plain": [
       "['HOMBRE-BUSO',\n",
       " 'HOMBRE-CAMISA',\n",
       " 'HOMBRE-CAMISETA',\n",
       " 'HOMBRE-CHAQUETA',\n",
       " 'HOMBRE-JOGGER',\n",
       " 'HOMBRE-PANTALÓN',\n",
       " 'HOMBRE-POLO',\n",
       " 'HOMBRE-SHORT',\n",
       " 'HOMBRE-TANK',\n",
       " 'MUJER-BUSO',\n",
       " 'MUJER-CAMISA',\n",
       " 'MUJER-CHAQUETA',\n",
       " 'MUJER-FALDA',\n",
       " 'MUJER-JOGGER',\n",
       " 'MUJER-PANTALÓN',\n",
       " 'MUJER-SHORT',\n",
       " 'MUJER-TOP',\n",
       " 'MUJER-TOP ML',\n",
       " 'MUJER-VESTIDO']"
      ]
     },
     "execution_count": 3,
     "metadata": {},
     "output_type": "execute_result"
    }
   ],
   "source": [
    "#se listan los nombres de las cartetas con la ropa clasificada en categorías\n",
    "CATEGORIES = os.listdir(\"Input\")\n",
    "CATEGORIES"
   ]
  },
  {
   "cell_type": "code",
   "execution_count": 4,
   "metadata": {},
   "outputs": [
    {
     "name": "stdout",
     "output_type": "stream",
     "text": [
      "19 17\n"
     ]
    },
    {
     "data": {
      "text/plain": [
       "['HOMBRE-BUSO',\n",
       " 'HOMBRE-CAMISA',\n",
       " 'HOMBRE-CHAQUETA',\n",
       " 'HOMBRE-JOGGER',\n",
       " 'HOMBRE-PANTALÓN',\n",
       " 'HOMBRE-POLO',\n",
       " 'HOMBRE-SHORT',\n",
       " 'HOMBRE-TANK',\n",
       " 'MUJER-BUSO',\n",
       " 'MUJER-CAMISA',\n",
       " 'MUJER-CHAQUETA',\n",
       " 'MUJER-FALDA',\n",
       " 'MUJER-JOGGER',\n",
       " 'MUJER-PANTALÓN',\n",
       " 'MUJER-SHORT',\n",
       " 'MUJER-TOP ML',\n",
       " 'MUJER-VESTIDO']"
      ]
     },
     "execution_count": 4,
     "metadata": {},
     "output_type": "execute_result"
    }
   ],
   "source": [
    "#se crea un listado sin las dos categorias con más datos.  A las demás se les realziará Data Aumentation\n",
    "CATEGORIES_2 = list(categiorie for categiorie in CATEGORIES if categiorie != 'MUJER-TOP' and  categiorie != 'HOMBRE-CAMISETA')\n",
    "#list( myBigList[i] for i in [87, 342, 217, 998, 500] )\n",
    "print(len(CATEGORIES),len(CATEGORIES_2 ))\n",
    "CATEGORIES_2"
   ]
  },
  {
   "cell_type": "code",
   "execution_count": 5,
   "metadata": {},
   "outputs": [
    {
     "name": "stdout",
     "output_type": "stream",
     "text": [
      "By class HOMBRE-BUSO :  651  and accumulated: 651\n",
      "By class HOMBRE-CAMISA :  268  and accumulated: 919\n",
      "By class HOMBRE-CAMISETA :  4279  and accumulated: 5198\n",
      "By class HOMBRE-CHAQUETA :  94  and accumulated: 5292\n",
      "By class HOMBRE-JOGGER :  286  and accumulated: 5578\n",
      "By class HOMBRE-PANTALÓN :  380  and accumulated: 5958\n",
      "By class HOMBRE-POLO :  551  and accumulated: 6509\n",
      "By class HOMBRE-SHORT :  298  and accumulated: 6807\n",
      "By class HOMBRE-TANK :  732  and accumulated: 7539\n",
      "By class MUJER-BUSO :  659  and accumulated: 8198\n",
      "By class MUJER-CAMISA :  624  and accumulated: 8822\n",
      "By class MUJER-CHAQUETA :  106  and accumulated: 8928\n",
      "By class MUJER-FALDA :  279  and accumulated: 9207\n",
      "By class MUJER-JOGGER :  340  and accumulated: 9547\n",
      "By class MUJER-PANTALÓN :  402  and accumulated: 9949\n",
      "By class MUJER-SHORT :  413  and accumulated: 10362\n",
      "By class MUJER-TOP :  4813  and accumulated: 15175\n",
      "By class MUJER-TOP ML :  803  and accumulated: 15978\n",
      "By class MUJER-VESTIDO :  1139  and accumulated: 17117\n"
     ]
    }
   ],
   "source": [
    "#conteo de numero de imagenes por carpeta\n",
    "cont_1 = 0\n",
    "cont_2 = 0\n",
    "for folder in os.listdir(\"Input\"):\n",
    "    aux_rootDir = os.path.join('Input',folder)\n",
    "    for file in os.listdir(aux_rootDir):\n",
    "        cont_1 += 1\n",
    "    cont_2 += cont_1\n",
    "    print('By class',folder, \": \"  , cont_1 , ' and accumulated:', cont_2 )\n",
    "    cont_1 = 0"
   ]
  },
  {
   "cell_type": "code",
   "execution_count": 6,
   "metadata": {},
   "outputs": [],
   "source": [
    "#Se define la funcion para manualmente hacer Data Augmentation usando libreria cv\n",
    "def loadTrainingData(rootDir, IMG_S):\n",
    "    count_1=0\n",
    "    count_2=0\n",
    "    count_3=0\n",
    "    path_t = rootDir\n",
    "    for categorie in CATEGORIES:\n",
    "        PATH = os.path.join(path_t,categorie)\n",
    "        class_num = CATEGORIES.index(categorie)\n",
    "        for img in os.listdir(PATH):\n",
    "            image = os.path.join(PATH, img)\n",
    "            image = cv2.imread(image, cv2.IMREAD_ANYCOLOR)\n",
    "            image = cv2.resize(image , (IMG_S, IMG_S))\n",
    "            image = cv2.cvtColor(image, cv2.COLOR_BGR2RGB)\n",
    "            X.append(image)\n",
    "            Y.append(class_num)\n",
    "            count_1 +=1\n",
    "            count_2 +=1\n",
    "            \n",
    "            if categorie != 'MUJER-TOP' and categorie != 'HOMBRE-CAMISETA':           \n",
    "                X.append(cv2.flip(image, 0))  # La diferencia con 1 y -1, es q' este hace un giro completo en espejo\n",
    "                Y.append(class_num)\n",
    "                count_2 +=1 \n",
    "                X.append(cv2.flip(image, 1))  # Vertical, que se hizo en la ampliación de datos\n",
    "                Y.append(class_num)\n",
    "                count_2 +=1 \n",
    "                X.append(cv2.flip(image, -1)) # horizontal, que se hizo en la ampliación de datos\n",
    "                Y.append(class_num)                \n",
    "                count_2 +=1 \n",
    "                X.append(cv2.rotate(image,cv2.ROTATE_90_CLOCKWISE))\n",
    "                Y.append(class_num)\n",
    "                count_2 +=1 \n",
    "                \n",
    "                if len(os.listdir(PATH))<700: \n",
    "                    \n",
    "                    X.append(cv2.rotate(image,cv2.ROTATE_90_COUNTERCLOCKWISE))\n",
    "                    Y.append(class_num)\n",
    "                    count_2 +=1 \n",
    "\n",
    "                    lookUpTable = np.empty((1,256), np.uint8)\n",
    "\n",
    "                    gamma = np.random.random_integers(20,70)/100                \n",
    "\n",
    "                    for i in range(256):\n",
    "                        lookUpTable[0,i] = np.clip(pow(i / 255.0, gamma) * 255.0, 0, 255)\n",
    "\n",
    "                    X.append(cv2.LUT(image, lookUpTable))\n",
    "                    Y.append(class_num)\n",
    "                    count_2 +=1   \n",
    "                \n",
    "                if len(os.listdir(PATH))<500:   \n",
    "                    \n",
    "                    alpha = np.random.random_integers(60, 90+1)/100\n",
    "                    beta =  np.random.random_integers(30, 90)\n",
    "\n",
    "\n",
    "                    X.append(cv2.convertScaleAbs(image, alpha=1, beta=beta))\n",
    "                    Y.append(class_num)\n",
    "                    count_2 +=1                \n",
    "                    X.append(cv2.convertScaleAbs(image, alpha=alpha, beta=0))\n",
    "                    Y.append(class_num)\n",
    "                    count_2 +=1                 \n",
    "                    X.append(cv2.convertScaleAbs(image, alpha=alpha, beta=beta))\n",
    "                    Y.append(class_num)\n",
    "                    count_2 +=1\n",
    "\n",
    "\n",
    "                \n",
    "        count_3 += count_2\n",
    "        print('By class',categorie, \" images: \", count_1, \" augmented:\", count_2 , ' and accumulated:', count_3 )\n",
    "        count_1 = 0\n",
    "        count_2 = 0"
   ]
  },
  {
   "cell_type": "code",
   "execution_count": 4,
   "metadata": {},
   "outputs": [],
   "source": [
    "X=[]\n",
    "Y=[]\n",
    "IMG_S = 128\n",
    "rootDir = \"Input\""
   ]
  },
  {
   "cell_type": "code",
   "execution_count": 1,
   "metadata": {},
   "outputs": [],
   "source": [
    "loadTrainingData(rootDir, IMG_S)  #data augmentation"
   ]
  },
  {
   "cell_type": "code",
   "execution_count": null,
   "metadata": {},
   "outputs": [],
   "source": [
    "# Se reescalan las imagenes\n",
    "X = np.array(X)/255.\n",
    "Y = np.array(Y)\n",
    "X.shape"
   ]
  },
  {
   "cell_type": "code",
   "execution_count": null,
   "metadata": {},
   "outputs": [],
   "source": [
    "#Manualmente se generan vectores one hot para las categorías\n",
    "def one_hottie(labels,C):\n",
    "    One_hot_matrix = tf.one_hot(labels,C)\n",
    "    return tf.keras.backend.eval(One_hot_matrix)\n",
    "Y = one_hottie(Y, len(CATEGORIES))\n",
    "print (\"Y shape: \" + str(Y.shape))"
   ]
  },
  {
   "cell_type": "code",
   "execution_count": null,
   "metadata": {},
   "outputs": [],
   "source": [
    "#plt.axis('off')\n",
    "#plt.imshow(X[4368])"
   ]
  },
  {
   "cell_type": "code",
   "execution_count": null,
   "metadata": {},
   "outputs": [],
   "source": [
    "#Se usa sklearn para dividir los datos en train y test\n",
    "from sklearn.model_selection import train_test_split\n",
    "X_train, X_test, Y_train, Y_test = train_test_split(X, Y, test_size = 0.15, random_state = 0)\n",
    "del X\n",
    "del Y"
   ]
  },
  {
   "cell_type": "code",
   "execution_count": 5,
   "metadata": {},
   "outputs": [],
   "source": [
    "# Hands-On Convolutional Neural Networks with TensorFlow VGG16 - Se define la estructura de la red neuronal\n",
    "\n",
    "i = Input(shape = (IMG_S,IMG_S,3))\n",
    "x = Conv2D(128, (3,3), activation='relu', padding='same')(i)\n",
    "x = BatchNormalization()(x)\n",
    "x = Conv2D(128, (3,3), activation='relu', padding='same')(x)\n",
    "x = BatchNormalization()(x)\n",
    "x = MaxPooling2D((2,2))(x)\n",
    "x = Conv2D(256, (3,3), activation='relu', padding='same')(x)\n",
    "x = BatchNormalization()(x)\n",
    "x = Conv2D(256, (3,3), activation='relu', padding='same')(x)\n",
    "x = BatchNormalization()(x)\n",
    "x = MaxPooling2D((2,2))(x)\n",
    "x = Conv2D(512, (3,3), activation='relu', padding='same')(x)\n",
    "x = BatchNormalization()(x)\n",
    "x = Conv2D(512, (3,3), activation='relu', padding='same')(x)\n",
    "x = BatchNormalization()(x)\n",
    "x = Conv2D(512, (3,3), activation='relu', padding='same')(x)\n",
    "x = BatchNormalization()(x)\n",
    "x = MaxPooling2D((2,2))(x)\n",
    "x = Conv2D(512, (3,3), activation='relu', padding='same')(x)\n",
    "x = BatchNormalization()(x)\n",
    "x = Conv2D(512, (3,3), activation='relu', padding='same')(x)\n",
    "x = BatchNormalization()(x)\n",
    "x = Conv2D(512, (3,3), activation='relu', padding='same')(x)\n",
    "x = BatchNormalization()(x)\n",
    "x = MaxPooling2D((2,2))(x)\n",
    "x = Conv2D(512, (3,3), activation='relu', padding='same')(x)\n",
    "x = BatchNormalization()(x)\n",
    "x = MaxPooling2D((2,2))(x)\n",
    "x = Conv2D(512, (3,3), activation='relu', padding='same')(x)\n",
    "x = BatchNormalization()(x)\n",
    "x = MaxPooling2D((2,2))(x)\n",
    "\n",
    "x = Flatten()(x)\n",
    "\n",
    "#x = Dropout(0.2)(x)\n",
    "#x = Dense(4096, activation = 'relu', kernel_regularizer= l2(0.001))(x)\n",
    "x = Dropout(0.2)(x)\n",
    "x = Dense(2048, activation = 'relu', kernel_regularizer= l2(0.001))(x)\n",
    "x = Dropout(0.2)(x)\n",
    "x = Dense(1024, activation = 'relu', kernel_regularizer= l2(0.001))(x)\n",
    "x = Dropout(0.2)(x)\n",
    "x = Dense(19, activation = 'softmax', kernel_regularizer= l2(0.001))(x)\n",
    "\n",
    "model = Model(i ,x)"
   ]
  },
  {
   "cell_type": "code",
   "execution_count": 6,
   "metadata": {},
   "outputs": [
    {
     "name": "stdout",
     "output_type": "stream",
     "text": [
      "Model: \"model\"\n",
      "_________________________________________________________________\n",
      "Layer (type)                 Output Shape              Param #   \n",
      "=================================================================\n",
      "input_1 (InputLayer)         [(None, 128, 128, 3)]     0         \n",
      "_________________________________________________________________\n",
      "conv2d (Conv2D)              (None, 128, 128, 128)     3584      \n",
      "_________________________________________________________________\n",
      "batch_normalization (BatchNo (None, 128, 128, 128)     512       \n",
      "_________________________________________________________________\n",
      "conv2d_1 (Conv2D)            (None, 128, 128, 128)     147584    \n",
      "_________________________________________________________________\n",
      "batch_normalization_1 (Batch (None, 128, 128, 128)     512       \n",
      "_________________________________________________________________\n",
      "max_pooling2d (MaxPooling2D) (None, 64, 64, 128)       0         \n",
      "_________________________________________________________________\n",
      "conv2d_2 (Conv2D)            (None, 64, 64, 256)       295168    \n",
      "_________________________________________________________________\n",
      "batch_normalization_2 (Batch (None, 64, 64, 256)       1024      \n",
      "_________________________________________________________________\n",
      "conv2d_3 (Conv2D)            (None, 64, 64, 256)       590080    \n",
      "_________________________________________________________________\n",
      "batch_normalization_3 (Batch (None, 64, 64, 256)       1024      \n",
      "_________________________________________________________________\n",
      "max_pooling2d_1 (MaxPooling2 (None, 32, 32, 256)       0         \n",
      "_________________________________________________________________\n",
      "conv2d_4 (Conv2D)            (None, 32, 32, 512)       1180160   \n",
      "_________________________________________________________________\n",
      "batch_normalization_4 (Batch (None, 32, 32, 512)       2048      \n",
      "_________________________________________________________________\n",
      "conv2d_5 (Conv2D)            (None, 32, 32, 512)       2359808   \n",
      "_________________________________________________________________\n",
      "batch_normalization_5 (Batch (None, 32, 32, 512)       2048      \n",
      "_________________________________________________________________\n",
      "conv2d_6 (Conv2D)            (None, 32, 32, 512)       2359808   \n",
      "_________________________________________________________________\n",
      "batch_normalization_6 (Batch (None, 32, 32, 512)       2048      \n",
      "_________________________________________________________________\n",
      "max_pooling2d_2 (MaxPooling2 (None, 16, 16, 512)       0         \n",
      "_________________________________________________________________\n",
      "conv2d_7 (Conv2D)            (None, 16, 16, 512)       2359808   \n",
      "_________________________________________________________________\n",
      "batch_normalization_7 (Batch (None, 16, 16, 512)       2048      \n",
      "_________________________________________________________________\n",
      "conv2d_8 (Conv2D)            (None, 16, 16, 512)       2359808   \n",
      "_________________________________________________________________\n",
      "batch_normalization_8 (Batch (None, 16, 16, 512)       2048      \n",
      "_________________________________________________________________\n",
      "conv2d_9 (Conv2D)            (None, 16, 16, 512)       2359808   \n",
      "_________________________________________________________________\n",
      "batch_normalization_9 (Batch (None, 16, 16, 512)       2048      \n",
      "_________________________________________________________________\n",
      "max_pooling2d_3 (MaxPooling2 (None, 8, 8, 512)         0         \n",
      "_________________________________________________________________\n",
      "conv2d_10 (Conv2D)           (None, 8, 8, 512)         2359808   \n",
      "_________________________________________________________________\n",
      "batch_normalization_10 (Batc (None, 8, 8, 512)         2048      \n",
      "_________________________________________________________________\n",
      "max_pooling2d_4 (MaxPooling2 (None, 4, 4, 512)         0         \n",
      "_________________________________________________________________\n",
      "conv2d_11 (Conv2D)           (None, 4, 4, 512)         2359808   \n",
      "_________________________________________________________________\n",
      "batch_normalization_11 (Batc (None, 4, 4, 512)         2048      \n",
      "_________________________________________________________________\n",
      "max_pooling2d_5 (MaxPooling2 (None, 2, 2, 512)         0         \n",
      "_________________________________________________________________\n",
      "flatten (Flatten)            (None, 2048)              0         \n",
      "_________________________________________________________________\n",
      "dropout (Dropout)            (None, 2048)              0         \n",
      "_________________________________________________________________\n",
      "dense (Dense)                (None, 2048)              4196352   \n",
      "_________________________________________________________________\n",
      "dropout_1 (Dropout)          (None, 2048)              0         \n",
      "_________________________________________________________________\n",
      "dense_1 (Dense)              (None, 1024)              2098176   \n",
      "_________________________________________________________________\n",
      "dropout_2 (Dropout)          (None, 1024)              0         \n",
      "_________________________________________________________________\n",
      "dense_2 (Dense)              (None, 19)                19475     \n",
      "=================================================================\n",
      "Total params: 25,068,691\n",
      "Trainable params: 25,058,963\n",
      "Non-trainable params: 9,728\n",
      "_________________________________________________________________\n"
     ]
    }
   ],
   "source": [
    "model.summary()"
   ]
  },
  {
   "cell_type": "code",
   "execution_count": null,
   "metadata": {},
   "outputs": [],
   "source": [
    "#se define una función para evaluación de accuracy, usando la librería de keras\n",
    "def top_3_accuracy(y_true, y_pred):\n",
    "    return top_k_categorical_accuracy(y_true, y_pred, k=3)\n",
    "\n",
    "#def top_2_accuracy(y_true, y_pred):\n",
    "#    return top_k_categorical_accuracy(y_true, y_pred, k=2)"
   ]
  },
  {
   "cell_type": "code",
   "execution_count": null,
   "metadata": {},
   "outputs": [],
   "source": [
    "#Definición de tasa de aprendizaje, y otros hiperparametros\n",
    "initial_learning_rate = 0.001\n",
    "lr_schedule = tf.keras.optimizers.schedules.ExponentialDecay(\n",
    "    initial_learning_rate,\n",
    "    decay_steps=2145,\n",
    "    decay_rate=0.9,\n",
    "    staircase=True)"
   ]
  },
  {
   "cell_type": "code",
   "execution_count": null,
   "metadata": {},
   "outputs": [],
   "source": [
    "model.compile(optimizer=tf.keras.optimizers.Adam(learning_rate=lr_schedule), \n",
    "              loss=tf.keras.losses.CategoricalCrossentropy(),\n",
    "              metrics=['accuracy'])"
   ]
  },
  {
   "cell_type": "code",
   "execution_count": null,
   "metadata": {},
   "outputs": [],
   "source": [
    "Y_train.shape"
   ]
  },
  {
   "cell_type": "code",
   "execution_count": 7,
   "metadata": {},
   "outputs": [],
   "source": [
    "filepath = \"./saved_model/modelo_04_100_epochs_vgg16_modificado_2_sin_transfer_data_ampl.h5\"  #nommbre del archivo donde se guardará el mejor modelo"
   ]
  },
  {
   "cell_type": "code",
   "execution_count": 20,
   "metadata": {},
   "outputs": [],
   "source": [
    "#Para guardar automaticamente el mejor modelo de forma iterativa\n",
    "checkpoint = tf.keras.callbacks.ModelCheckpoint(filepath, monitor='val_accuracy', verbose=1,\n",
    "                             save_best_only=True, mode='max')"
   ]
  },
  {
   "cell_type": "code",
   "execution_count": 21,
   "metadata": {},
   "outputs": [],
   "source": [
    "callbacks_list = [checkpoint]"
   ]
  },
  {
   "cell_type": "code",
   "execution_count": 22,
   "metadata": {},
   "outputs": [],
   "source": [
    "BATCHES = 64\n",
    "EPOCHS = 55"
   ]
  },
  {
   "cell_type": "code",
   "execution_count": 23,
   "metadata": {
    "scrolled": true
   },
   "outputs": [
    {
     "name": "stdout",
     "output_type": "stream",
     "text": [
      "Train on 50959 samples, validate on 7280 samples\n",
      "Epoch 1/55\n",
      "50944/50959 [============================>.] - ETA: 0s - loss: 3.3640 - accuracy: 0.4008\n",
      "Epoch 00001: val_accuracy improved from -inf to 0.25701, saving model to modelo_04_100_epochs_vgg16_modificado_2_sin_transfer_data_ampl.h5\n",
      "50959/50959 [==============================] - 492s 10ms/sample - loss: 3.3635 - accuracy: 0.4009 - val_loss: 2.9072 - val_accuracy: 0.2570\n",
      "Epoch 2/55\n",
      "50944/50959 [============================>.] - ETA: 0s - loss: 1.4399 - accuracy: 0.6308\n",
      "Epoch 00002: val_accuracy improved from 0.25701 to 0.66703, saving model to modelo_04_100_epochs_vgg16_modificado_2_sin_transfer_data_ampl.h5\n",
      "50959/50959 [==============================] - 480s 9ms/sample - loss: 1.4398 - accuracy: 0.6308 - val_loss: 1.2978 - val_accuracy: 0.6670\n",
      "Epoch 3/55\n",
      "50944/50959 [============================>.] - ETA: 0s - loss: 1.0552 - accuracy: 0.7233\n",
      "Epoch 00003: val_accuracy did not improve from 0.66703\n",
      "50959/50959 [==============================] - 479s 9ms/sample - loss: 1.0552 - accuracy: 0.7233 - val_loss: 1.2903 - val_accuracy: 0.6567\n",
      "Epoch 4/55\n",
      "50944/50959 [============================>.] - ETA: 0s - loss: 0.8287 - accuracy: 0.7896\n",
      "Epoch 00004: val_accuracy did not improve from 0.66703\n",
      "50959/50959 [==============================] - 481s 9ms/sample - loss: 0.8287 - accuracy: 0.7896 - val_loss: 1.6396 - val_accuracy: 0.5600\n",
      "Epoch 5/55\n",
      "50944/50959 [============================>.] - ETA: 0s - loss: 0.7144 - accuracy: 0.8246\n",
      "Epoch 00005: val_accuracy improved from 0.66703 to 0.73544, saving model to modelo_04_100_epochs_vgg16_modificado_2_sin_transfer_data_ampl.h5\n",
      "50959/50959 [==============================] - 484s 9ms/sample - loss: 0.7144 - accuracy: 0.8246 - val_loss: 1.0221 - val_accuracy: 0.7354\n",
      "Epoch 6/55\n",
      "50944/50959 [============================>.] - ETA: 0s - loss: 0.6134 - accuracy: 0.8582\n",
      "Epoch 00006: val_accuracy improved from 0.73544 to 0.80728, saving model to modelo_04_100_epochs_vgg16_modificado_2_sin_transfer_data_ampl.h5\n",
      "50959/50959 [==============================] - 483s 9ms/sample - loss: 0.6134 - accuracy: 0.8582 - val_loss: 0.7818 - val_accuracy: 0.8073\n",
      "Epoch 7/55\n",
      "50944/50959 [============================>.] - ETA: 0s - loss: 0.5139 - accuracy: 0.8860\n",
      "Epoch 00007: val_accuracy did not improve from 0.80728\n",
      "50959/50959 [==============================] - 483s 9ms/sample - loss: 0.5139 - accuracy: 0.8860 - val_loss: 0.9601 - val_accuracy: 0.7600\n",
      "Epoch 8/55\n",
      "50944/50959 [============================>.] - ETA: 0s - loss: 0.4781 - accuracy: 0.8997\n",
      "Epoch 00008: val_accuracy did not improve from 0.80728\n",
      "50959/50959 [==============================] - 483s 9ms/sample - loss: 0.4781 - accuracy: 0.8997 - val_loss: 0.8412 - val_accuracy: 0.7935\n",
      "Epoch 9/55\n",
      "50944/50959 [============================>.] - ETA: 0s - loss: 0.3779 - accuracy: 0.9279\n",
      "Epoch 00009: val_accuracy improved from 0.80728 to 0.81827, saving model to modelo_04_100_epochs_vgg16_modificado_2_sin_transfer_data_ampl.h5\n",
      "50959/50959 [==============================] - 484s 9ms/sample - loss: 0.3778 - accuracy: 0.9279 - val_loss: 0.7715 - val_accuracy: 0.8183\n",
      "Epoch 10/55\n",
      "50944/50959 [============================>.] - ETA: 0s - loss: 0.3291 - accuracy: 0.9415\n",
      "Epoch 00010: val_accuracy did not improve from 0.81827\n",
      "50959/50959 [==============================] - 483s 9ms/sample - loss: 0.3291 - accuracy: 0.9415 - val_loss: 0.8273 - val_accuracy: 0.8078\n",
      "Epoch 11/55\n",
      "50944/50959 [============================>.] - ETA: 0s - loss: 0.3008 - accuracy: 0.9496\n",
      "Epoch 00011: val_accuracy improved from 0.81827 to 0.85261, saving model to modelo_04_100_epochs_vgg16_modificado_2_sin_transfer_data_ampl.h5\n",
      "50959/50959 [==============================] - 484s 9ms/sample - loss: 0.3007 - accuracy: 0.9496 - val_loss: 0.6627 - val_accuracy: 0.8526\n",
      "Epoch 12/55\n",
      "50944/50959 [============================>.] - ETA: 0s - loss: 0.2439 - accuracy: 0.9620\n",
      "Epoch 00012: val_accuracy improved from 0.85261 to 0.88104, saving model to modelo_04_100_epochs_vgg16_modificado_2_sin_transfer_data_ampl.h5\n",
      "50959/50959 [==============================] - 484s 9ms/sample - loss: 0.2439 - accuracy: 0.9620 - val_loss: 0.5786 - val_accuracy: 0.8810\n",
      "Epoch 13/55\n",
      "50944/50959 [============================>.] - ETA: 0s - loss: 0.2333 - accuracy: 0.9643\n",
      "Epoch 00013: val_accuracy did not improve from 0.88104\n",
      "50959/50959 [==============================] - 483s 9ms/sample - loss: 0.2333 - accuracy: 0.9643 - val_loss: 0.7073 - val_accuracy: 0.8463\n",
      "Epoch 14/55\n",
      "50944/50959 [============================>.] - ETA: 0s - loss: 0.2088 - accuracy: 0.9724\n",
      "Epoch 00014: val_accuracy improved from 0.88104 to 0.89560, saving model to modelo_04_100_epochs_vgg16_modificado_2_sin_transfer_data_ampl.h5\n",
      "50959/50959 [==============================] - 484s 9ms/sample - loss: 0.2087 - accuracy: 0.9724 - val_loss: 0.5303 - val_accuracy: 0.8956\n",
      "Epoch 15/55\n",
      "50944/50959 [============================>.] - ETA: 0s - loss: 0.1742 - accuracy: 0.9786\n",
      "Epoch 00015: val_accuracy did not improve from 0.89560\n",
      "50959/50959 [==============================] - 483s 9ms/sample - loss: 0.1742 - accuracy: 0.9786 - val_loss: 0.7722 - val_accuracy: 0.8218\n",
      "Epoch 16/55\n",
      "50944/50959 [============================>.] - ETA: 0s - loss: 0.1673 - accuracy: 0.9794\n",
      "Epoch 00016: val_accuracy did not improve from 0.89560\n",
      "50959/50959 [==============================] - 483s 9ms/sample - loss: 0.1673 - accuracy: 0.9794 - val_loss: 0.6669 - val_accuracy: 0.8577\n",
      "Epoch 17/55\n",
      "50944/50959 [============================>.] - ETA: 0s - loss: 0.1462 - accuracy: 0.9848\n",
      "Epoch 00017: val_accuracy did not improve from 0.89560\n",
      "50959/50959 [==============================] - 483s 9ms/sample - loss: 0.1462 - accuracy: 0.9849 - val_loss: 0.5511 - val_accuracy: 0.8826\n",
      "Epoch 18/55\n",
      "50944/50959 [============================>.] - ETA: 0s - loss: 0.1323 - accuracy: 0.9865\n",
      "Epoch 00018: val_accuracy did not improve from 0.89560\n",
      "50959/50959 [==============================] - 483s 9ms/sample - loss: 0.1323 - accuracy: 0.9865 - val_loss: 0.5305 - val_accuracy: 0.8880\n",
      "Epoch 19/55\n",
      "50944/50959 [============================>.] - ETA: 0s - loss: 0.1342 - accuracy: 0.9853\n",
      "Epoch 00019: val_accuracy improved from 0.89560 to 0.89794, saving model to modelo_04_100_epochs_vgg16_modificado_2_sin_transfer_data_ampl.h5\n",
      "50959/50959 [==============================] - 484s 9ms/sample - loss: 0.1342 - accuracy: 0.9853 - val_loss: 0.5166 - val_accuracy: 0.8979\n",
      "Epoch 20/55\n",
      "50944/50959 [============================>.] - ETA: 0s - loss: 0.1104 - accuracy: 0.9908\n",
      "Epoch 00020: val_accuracy did not improve from 0.89794\n",
      "50959/50959 [==============================] - 483s 9ms/sample - loss: 0.1104 - accuracy: 0.9908 - val_loss: 0.5136 - val_accuracy: 0.8938\n",
      "Epoch 21/55\n",
      "50944/50959 [============================>.] - ETA: 0s - loss: 0.1071 - accuracy: 0.9899\n",
      "Epoch 00021: val_accuracy did not improve from 0.89794\n",
      "50959/50959 [==============================] - 483s 9ms/sample - loss: 0.1071 - accuracy: 0.9899 - val_loss: 0.6069 - val_accuracy: 0.8725\n",
      "Epoch 22/55\n",
      "50944/50959 [============================>.] - ETA: 0s - loss: 0.1048 - accuracy: 0.9909\n",
      "Epoch 00022: val_accuracy improved from 0.89794 to 0.90673, saving model to modelo_04_100_epochs_vgg16_modificado_2_sin_transfer_data_ampl.h5\n",
      "50959/50959 [==============================] - 484s 9ms/sample - loss: 0.1048 - accuracy: 0.9909 - val_loss: 0.4572 - val_accuracy: 0.9067\n",
      "Epoch 23/55\n",
      "50944/50959 [============================>.] - ETA: 0s - loss: 0.0865 - accuracy: 0.9946\n",
      "Epoch 00023: val_accuracy did not improve from 0.90673\n",
      "50959/50959 [==============================] - 483s 9ms/sample - loss: 0.0865 - accuracy: 0.9946 - val_loss: 0.4677 - val_accuracy: 0.8999\n",
      "Epoch 24/55\n",
      "50944/50959 [============================>.] - ETA: 0s - loss: 0.0814 - accuracy: 0.9943\n",
      "Epoch 00024: val_accuracy did not improve from 0.90673\n",
      "50959/50959 [==============================] - 484s 9ms/sample - loss: 0.0814 - accuracy: 0.9943 - val_loss: 0.4785 - val_accuracy: 0.9048\n",
      "Epoch 25/55\n",
      "50944/50959 [============================>.] - ETA: 0s - loss: 0.0870 - accuracy: 0.9931\n",
      "Epoch 00025: val_accuracy improved from 0.90673 to 0.91085, saving model to modelo_04_100_epochs_vgg16_modificado_2_sin_transfer_data_ampl.h5\n",
      "50959/50959 [==============================] - 491s 10ms/sample - loss: 0.0870 - accuracy: 0.9931 - val_loss: 0.4254 - val_accuracy: 0.9109\n",
      "Epoch 26/55\n",
      "50944/50959 [============================>.] - ETA: 0s - loss: 0.0723 - accuracy: 0.9962\n",
      "Epoch 00026: val_accuracy did not improve from 0.91085\n",
      "50959/50959 [==============================] - 483s 9ms/sample - loss: 0.0723 - accuracy: 0.9962 - val_loss: 0.4359 - val_accuracy: 0.9032\n",
      "Epoch 27/55\n",
      "50944/50959 [============================>.] - ETA: 0s - loss: 0.0689 - accuracy: 0.9963\n",
      "Epoch 00027: val_accuracy improved from 0.91085 to 0.91264, saving model to modelo_04_100_epochs_vgg16_modificado_2_sin_transfer_data_ampl.h5\n",
      "50959/50959 [==============================] - 483s 9ms/sample - loss: 0.0689 - accuracy: 0.9963 - val_loss: 0.4112 - val_accuracy: 0.9126\n",
      "Epoch 28/55\n",
      "50944/50959 [============================>.] - ETA: 0s - loss: 0.0604 - accuracy: 0.9979\n",
      "Epoch 00028: val_accuracy improved from 0.91264 to 0.91717, saving model to modelo_04_100_epochs_vgg16_modificado_2_sin_transfer_data_ampl.h5\n",
      "50959/50959 [==============================] - 478s 9ms/sample - loss: 0.0604 - accuracy: 0.9979 - val_loss: 0.3955 - val_accuracy: 0.9172\n",
      "Epoch 29/55\n",
      "50944/50959 [============================>.] - ETA: 0s - loss: 0.0571 - accuracy: 0.9973\n",
      "Epoch 00029: val_accuracy did not improve from 0.91717\n",
      "50959/50959 [==============================] - 487s 10ms/sample - loss: 0.0571 - accuracy: 0.9973 - val_loss: 0.4443 - val_accuracy: 0.9036\n",
      "Epoch 30/55\n",
      "50944/50959 [============================>.] - ETA: 0s - loss: 0.0588 - accuracy: 0.9974\n",
      "Epoch 00030: val_accuracy did not improve from 0.91717\n",
      "50959/50959 [==============================] - 485s 10ms/sample - loss: 0.0588 - accuracy: 0.9974 - val_loss: 0.4842 - val_accuracy: 0.8913\n",
      "Epoch 31/55\n",
      "50944/50959 [============================>.] - ETA: 0s - loss: 0.0537 - accuracy: 0.9981\n",
      "Epoch 00031: val_accuracy did not improve from 0.91717\n",
      "50959/50959 [==============================] - 492s 10ms/sample - loss: 0.0537 - accuracy: 0.9981 - val_loss: 0.4096 - val_accuracy: 0.9117\n",
      "Epoch 32/55\n",
      "50944/50959 [============================>.] - ETA: 0s - loss: 0.0502 - accuracy: 0.9983\n",
      "Epoch 00032: val_accuracy improved from 0.91717 to 0.91909, saving model to modelo_04_100_epochs_vgg16_modificado_2_sin_transfer_data_ampl.h5\n",
      "50959/50959 [==============================] - 495s 10ms/sample - loss: 0.0502 - accuracy: 0.9983 - val_loss: 0.3777 - val_accuracy: 0.9191\n",
      "Epoch 33/55\n",
      "50944/50959 [============================>.] - ETA: 0s - loss: 0.0430 - accuracy: 0.9993\n",
      "Epoch 00033: val_accuracy improved from 0.91909 to 0.92088, saving model to modelo_04_100_epochs_vgg16_modificado_2_sin_transfer_data_ampl.h5\n",
      "50959/50959 [==============================] - 491s 10ms/sample - loss: 0.0430 - accuracy: 0.9993 - val_loss: 0.3520 - val_accuracy: 0.9209\n",
      "Epoch 34/55\n",
      "50944/50959 [============================>.] - ETA: 0s - loss: 0.0434 - accuracy: 0.9988\n",
      "Epoch 00034: val_accuracy did not improve from 0.92088\n",
      "50959/50959 [==============================] - 483s 9ms/sample - loss: 0.0434 - accuracy: 0.9988 - val_loss: 0.4075 - val_accuracy: 0.9125\n",
      "Epoch 35/55\n",
      "50944/50959 [============================>.] - ETA: 0s - loss: 0.0490 - accuracy: 0.9977\n",
      "Epoch 00035: val_accuracy did not improve from 0.92088\n",
      "50959/50959 [==============================] - 484s 10ms/sample - loss: 0.0490 - accuracy: 0.9977 - val_loss: 0.3922 - val_accuracy: 0.9185\n",
      "Epoch 36/55\n",
      "50944/50959 [============================>.] - ETA: 0s - loss: 0.0467 - accuracy: 0.9982\n",
      "Epoch 00036: val_accuracy improved from 0.92088 to 0.92212, saving model to modelo_04_100_epochs_vgg16_modificado_2_sin_transfer_data_ampl.h5\n",
      "50959/50959 [==============================] - 482s 9ms/sample - loss: 0.0467 - accuracy: 0.9982 - val_loss: 0.3621 - val_accuracy: 0.9221\n",
      "Epoch 37/55\n",
      "50944/50959 [============================>.] - ETA: 0s - loss: 0.0424 - accuracy: 0.9989\n",
      "Epoch 00037: val_accuracy did not improve from 0.92212\n",
      "50959/50959 [==============================] - 481s 9ms/sample - loss: 0.0424 - accuracy: 0.9989 - val_loss: 0.3504 - val_accuracy: 0.9221\n",
      "Epoch 38/55\n",
      "50944/50959 [============================>.] - ETA: 0s - loss: 0.0373 - accuracy: 0.9993\n",
      "Epoch 00038: val_accuracy did not improve from 0.92212\n",
      "50959/50959 [==============================] - 481s 9ms/sample - loss: 0.0373 - accuracy: 0.9993 - val_loss: 0.3451 - val_accuracy: 0.9217\n",
      "Epoch 39/55\n",
      "50944/50959 [============================>.] - ETA: 0s - loss: 0.0329 - accuracy: 0.9998\n",
      "Epoch 00039: val_accuracy improved from 0.92212 to 0.92266, saving model to modelo_04_100_epochs_vgg16_modificado_2_sin_transfer_data_ampl.h5\n",
      "50959/50959 [==============================] - 482s 9ms/sample - loss: 0.0329 - accuracy: 0.9998 - val_loss: 0.3327 - val_accuracy: 0.9227\n",
      "Epoch 40/55\n",
      "50944/50959 [============================>.] - ETA: 0s - loss: 0.0341 - accuracy: 0.9995\n",
      "Epoch 00040: val_accuracy did not improve from 0.92266\n",
      "50959/50959 [==============================] - 481s 9ms/sample - loss: 0.0341 - accuracy: 0.9995 - val_loss: 0.3448 - val_accuracy: 0.9191\n",
      "Epoch 41/55\n",
      "50944/50959 [============================>.] - ETA: 0s - loss: 0.0349 - accuracy: 0.9994\n",
      "Epoch 00041: val_accuracy did not improve from 0.92266\n",
      "50959/50959 [==============================] - 481s 9ms/sample - loss: 0.0349 - accuracy: 0.9994 - val_loss: 0.3445 - val_accuracy: 0.9209\n",
      "Epoch 42/55\n",
      "50944/50959 [============================>.] - ETA: 0s - loss: 0.0310 - accuracy: 0.9998\n",
      "Epoch 00042: val_accuracy improved from 0.92266 to 0.92624, saving model to modelo_04_100_epochs_vgg16_modificado_2_sin_transfer_data_ampl.h5\n",
      "50959/50959 [==============================] - 482s 9ms/sample - loss: 0.0310 - accuracy: 0.9998 - val_loss: 0.3252 - val_accuracy: 0.9262\n",
      "Epoch 43/55\n",
      "50944/50959 [============================>.] - ETA: 0s - loss: 0.0289 - accuracy: 0.9999\n",
      "Epoch 00043: val_accuracy improved from 0.92624 to 0.92912, saving model to modelo_04_100_epochs_vgg16_modificado_2_sin_transfer_data_ampl.h5\n",
      "50959/50959 [==============================] - 482s 9ms/sample - loss: 0.0289 - accuracy: 0.9999 - val_loss: 0.3007 - val_accuracy: 0.9291\n",
      "Epoch 44/55\n",
      "50944/50959 [============================>.] - ETA: 0s - loss: 0.0275 - accuracy: 0.9998\n",
      "Epoch 00044: val_accuracy did not improve from 0.92912\n",
      "50959/50959 [==============================] - 481s 9ms/sample - loss: 0.0275 - accuracy: 0.9998 - val_loss: 0.3087 - val_accuracy: 0.9261\n",
      "Epoch 45/55\n",
      "50944/50959 [============================>.] - ETA: 0s - loss: 0.0285 - accuracy: 0.9997\n",
      "Epoch 00045: val_accuracy did not improve from 0.92912\n",
      "50959/50959 [==============================] - 481s 9ms/sample - loss: 0.0285 - accuracy: 0.9997 - val_loss: 0.3131 - val_accuracy: 0.9282\n",
      "Epoch 46/55\n",
      "50944/50959 [============================>.] - ETA: 0s - loss: 0.0270 - accuracy: 0.9997\n",
      "Epoch 00046: val_accuracy did not improve from 0.92912\n",
      "50959/50959 [==============================] - 482s 9ms/sample - loss: 0.0270 - accuracy: 0.9997 - val_loss: 0.3329 - val_accuracy: 0.9231\n",
      "Epoch 47/55\n",
      "50944/50959 [============================>.] - ETA: 0s - loss: 0.0269 - accuracy: 0.9998\n",
      "Epoch 00047: val_accuracy improved from 0.92912 to 0.92967, saving model to modelo_04_100_epochs_vgg16_modificado_2_sin_transfer_data_ampl.h5\n",
      "50959/50959 [==============================] - 483s 9ms/sample - loss: 0.0269 - accuracy: 0.9998 - val_loss: 0.3016 - val_accuracy: 0.9297\n",
      "Epoch 48/55\n",
      "50944/50959 [============================>.] - ETA: 0s - loss: 0.0241 - accuracy: 1.0000\n",
      "Epoch 00048: val_accuracy did not improve from 0.92967\n",
      "50959/50959 [==============================] - 482s 9ms/sample - loss: 0.0241 - accuracy: 1.0000 - val_loss: 0.3287 - val_accuracy: 0.9239\n",
      "Epoch 49/55\n",
      "50944/50959 [============================>.] - ETA: 0s - loss: 0.0236 - accuracy: 0.9999\n",
      "Epoch 00049: val_accuracy did not improve from 0.92967\n",
      "50959/50959 [==============================] - 482s 9ms/sample - loss: 0.0236 - accuracy: 0.9999 - val_loss: 0.3003 - val_accuracy: 0.9283\n",
      "Epoch 50/55\n",
      "50944/50959 [============================>.] - ETA: 0s - loss: 0.0233 - accuracy: 0.9999\n",
      "Epoch 00050: val_accuracy did not improve from 0.92967\n",
      "50959/50959 [==============================] - 482s 9ms/sample - loss: 0.0233 - accuracy: 0.9999 - val_loss: 0.3075 - val_accuracy: 0.9269\n",
      "Epoch 51/55\n",
      "50944/50959 [============================>.] - ETA: 0s - loss: 0.0234 - accuracy: 0.9999\n",
      "Epoch 00051: val_accuracy did not improve from 0.92967\n",
      "50959/50959 [==============================] - 479s 9ms/sample - loss: 0.0234 - accuracy: 0.9999 - val_loss: 0.3142 - val_accuracy: 0.9249\n",
      "Epoch 52/55\n",
      "50944/50959 [============================>.] - ETA: 0s - loss: 0.0218 - accuracy: 0.9999\n",
      "Epoch 00052: val_accuracy improved from 0.92967 to 0.93132, saving model to modelo_04_100_epochs_vgg16_modificado_2_sin_transfer_data_ampl.h5\n",
      "50959/50959 [==============================] - 482s 9ms/sample - loss: 0.0218 - accuracy: 0.9999 - val_loss: 0.2821 - val_accuracy: 0.9313\n",
      "Epoch 53/55\n",
      "50944/50959 [============================>.] - ETA: 0s - loss: 0.0210 - accuracy: 1.0000\n",
      "Epoch 00053: val_accuracy did not improve from 0.93132\n",
      "50959/50959 [==============================] - 488s 10ms/sample - loss: 0.0210 - accuracy: 1.0000 - val_loss: 0.2881 - val_accuracy: 0.9295\n",
      "Epoch 54/55\n",
      "50944/50959 [============================>.] - ETA: 0s - loss: 0.0200 - accuracy: 1.0000\n",
      "Epoch 00054: val_accuracy did not improve from 0.93132\n",
      "50959/50959 [==============================] - 482s 9ms/sample - loss: 0.0200 - accuracy: 1.0000 - val_loss: 0.2777 - val_accuracy: 0.9313\n",
      "Epoch 55/55\n",
      "50944/50959 [============================>.] - ETA: 0s - loss: 0.0198 - accuracy: 0.9999\n",
      "Epoch 00055: val_accuracy did not improve from 0.93132\n",
      "50959/50959 [==============================] - 482s 9ms/sample - loss: 0.0198 - accuracy: 0.9999 - val_loss: 0.2797 - val_accuracy: 0.9313\n"
     ]
    }
   ],
   "source": [
    "result = model.fit(x=X_train,\n",
    "                   y=Y_train,\n",
    "                   batch_size=BATCHES,\n",
    "                   epochs=EPOCHS,\n",
    "                   verbose=1,\n",
    "                   shuffle=False,\n",
    "                   initial_epoch=0,\n",
    "                   validation_split=0.125,\n",
    "                   callbacks=callbacks_list)\n",
    "# 11:20"
   ]
  },
  {
   "cell_type": "code",
   "execution_count": 15,
   "metadata": {},
   "outputs": [],
   "source": [
    "result.history.keys()"
   ]
  },
  {
   "cell_type": "code",
   "execution_count": 26,
   "metadata": {},
   "outputs": [
    {
     "data": {
      "image/png": "[encoded data removed]",
      "text/plain": [
       "<Figure size 720x720 with 1 Axes>"
      ]
     },
     "metadata": {},
     "output_type": "display_data"
    },
    {
     "data": {
      "image/png": "[encoded data removed]",
      "text/plain": [
       "<Figure size 720x720 with 1 Axes>"
      ]
     },
     "metadata": {},
     "output_type": "display_data"
    }
   ],
   "source": [
    "plt.figure(figsize = (10,10))\n",
    "plt.plot(result.history['accuracy'], label='train')\n",
    "plt.plot(result.history['val_accuracy'], label='valid')\n",
    "plt.legend(loc='upper left')\n",
    "plt.title('Model accuracy')\n",
    "plt.ylabel('accuracy')\n",
    "plt.xlabel('Epoch')\n",
    "plt.show()\n",
    "plt.figure(figsize = (10,10))\n",
    "plt.plot(result.history['loss'], label='train')\n",
    "plt.plot(result.history['val_loss'], label='test')\n",
    "plt.legend(loc='upper right')\n",
    "plt.title('Model Cost')\n",
    "plt.ylabel('Cost')\n",
    "plt.xlabel('Epoch')\n",
    "plt.show()"
   ]
  },
  {
   "cell_type": "markdown",
   "metadata": {},
   "source": [
    "### Evaluation on test set"
   ]
  },
  {
   "cell_type": "code",
   "execution_count": 16,
   "metadata": {},
   "outputs": [],
   "source": [
    "model = tf.keras.models.load_model('./saved_model/modelo_04_100_epochs_vgg16_modificado_2_sin_transfer_data_ampl.h5') #se carga el modelo y sus pesos"
   ]
  },
  {
   "cell_type": "code",
   "execution_count": 27,
   "metadata": {},
   "outputs": [
    {
     "name": "stdout",
     "output_type": "stream",
     "text": [
      "10278/1 - 40s - loss: 0.1746 - accuracy: 0.9269\n"
     ]
    }
   ],
   "source": [
    "valid = model.evaluate(X_test,Y_test,verbose=2)"
   ]
  },
  {
   "cell_type": "code",
   "execution_count": 28,
   "metadata": {},
   "outputs": [],
   "source": [
    "Records = []\n",
    "Records.append(valid)"
   ]
  },
  {
   "cell_type": "code",
   "execution_count": 29,
   "metadata": {},
   "outputs": [
    {
     "data": {
      "text/plain": [
       "[[0.29769996887261035, 0.9269313]]"
      ]
     },
     "execution_count": 29,
     "metadata": {},
     "output_type": "execute_result"
    }
   ],
   "source": [
    "Records"
   ]
  },
  {
   "cell_type": "markdown",
   "metadata": {},
   "source": [
    "### Making Predictions"
   ]
  },
  {
   "cell_type": "code",
   "execution_count": 30,
   "metadata": {},
   "outputs": [],
   "source": [
    "predict = model.predict(X_test)\n",
    "y_valid_pred_class = np.argmax(predict, axis = 1)"
   ]
  },
  {
   "cell_type": "code",
   "execution_count": 31,
   "metadata": {},
   "outputs": [
    {
     "data": {
      "text/plain": [
       "array([ 2,  8,  5, ...,  6,  2, 12])"
      ]
     },
     "execution_count": 31,
     "metadata": {},
     "output_type": "execute_result"
    }
   ],
   "source": [
    "y_valid_pred_class"
   ]
  },
  {
   "cell_type": "code",
   "execution_count": 32,
   "metadata": {},
   "outputs": [
    {
     "data": {
      "text/plain": [
       "array([[0., 0., 1., ..., 0., 0., 0.],\n",
       "       [0., 0., 0., ..., 0., 0., 0.],\n",
       "       [0., 1., 0., ..., 0., 0., 0.],\n",
       "       ...,\n",
       "       [0., 0., 0., ..., 0., 0., 0.],\n",
       "       [0., 0., 1., ..., 0., 0., 0.],\n",
       "       [0., 0., 0., ..., 0., 0., 0.]], dtype=float32)"
      ]
     },
     "execution_count": 32,
     "metadata": {},
     "output_type": "execute_result"
    }
   ],
   "source": [
    "Y_test"
   ]
  },
  {
   "cell_type": "code",
   "execution_count": 33,
   "metadata": {},
   "outputs": [],
   "source": [
    "Y_test_A = np.argmax(Y_test, axis = 1)"
   ]
  },
  {
   "cell_type": "code",
   "execution_count": 34,
   "metadata": {},
   "outputs": [
    {
     "data": {
      "text/plain": [
       "array([ 2,  8,  1, ...,  6,  2, 12])"
      ]
     },
     "execution_count": 34,
     "metadata": {},
     "output_type": "execute_result"
    }
   ],
   "source": [
    "Y_test_A"
   ]
  },
  {
   "cell_type": "code",
   "execution_count": 35,
   "metadata": {},
   "outputs": [],
   "source": [
    "cnf_matrix = confusion_matrix(Y_test_A, y_valid_pred_class)"
   ]
  },
  {
   "cell_type": "code",
   "execution_count": 36,
   "metadata": {},
   "outputs": [
    {
     "data": {
      "text/plain": [
       "array([[568,   0,   0,   0,   1,   0,   0,   0,   0,   1,   0,   0,   0,\n",
       "          0,   0,   0,   0,   0,   7],\n",
       "       [  0, 552,   1,   0,  20,   3,  22,   0,   8,   0,   0,   8,   2,\n",
       "          1,   0,  10,   0,   0,   2],\n",
       "       [  0,   1, 476,   1,   0,   0,   1,   0,   0,   1,  16,   1,   0,\n",
       "          0,   0,   0,   7,   0,   1],\n",
       "       [  1,   0,   2, 513,   0,   0,   1,   0,   0,   1,  11,   0,   0,\n",
       "          0,   0,   0,  13,   0,   0],\n",
       "       [  0,  20,   0,   0, 491,   2,  67,   0,   3,   0,   0,  10,   0,\n",
       "          1,   1,   5,   0,   0,   0],\n",
       "       [  0,   0,   0,   1,   5, 612,  28,   4,   0,   0,   1,   0,   4,\n",
       "          4,   2,   0,   0,   7,   2],\n",
       "       [  0,  18,   1,   1,  53,   8, 619,   0,   5,   0,   0,   3,   2,\n",
       "          0,   0,  14,   0,   0,   0],\n",
       "       [  0,   2,   0,   0,   0,   3,   2, 557,   1,   0,   0,   1,   4,\n",
       "          0,   4,   0,   0,   2,   2],\n",
       "       [  1,   4,   0,   0,   6,   0,   0,   1, 682,   1,   0,  14,   0,\n",
       "          0,   6,   0,   0,   4,   2],\n",
       "       [  5,   0,   2,   0,   0,   0,   0,   0,   0, 487,   0,   0,   0,\n",
       "          0,   0,   1,   1,   1,   0],\n",
       "       [  0,   0,  11,  11,   0,   0,   0,   0,   0,   1, 556,   0,   0,\n",
       "          0,   0,   2,   2,   0,   1],\n",
       "       [  1,   5,   0,   0,  11,   0,   1,   1,   8,   1,   1, 870,   0,\n",
       "          0,   1,   0,   0,   1,   5],\n",
       "       [  1,   7,   0,   0,   0,   8,   0,   8,   0,   0,   0,   1, 359,\n",
       "          5,   0,   1,   0,   0,   0],\n",
       "       [  0,   1,   0,   0,   0,  13,   3,   4,   0,   0,   0,   0,   4,\n",
       "        119,   0,   4,   1,   1,   0],\n",
       "       [  0,   0,   0,   0,   0,   5,   4,   6,   2,   1,   2,   1,   2,\n",
       "          0, 628,   0,   0,   0,   1],\n",
       "       [  2,   2,   1,   0,   4,   3,  19,   1,   0,   0,   0,   1,   0,\n",
       "          0,   0, 129,   0,   0,   0],\n",
       "       [  0,   0,  26,  16,   0,   0,   0,   0,   0,   2,   2,   0,   0,\n",
       "          0,   0,   0, 387,   0,   0],\n",
       "       [  1,   0,   0,   1,   1,   1,   2,   2,   1,   0,   0,   0,   0,\n",
       "          0,   1,   0,   1, 544,   1],\n",
       "       [ 11,   0,   6,   0,   0,   0,   0,   0,   0,   1,   0,   5,   0,\n",
       "          0,   0,   0,   0,   1, 378]])"
      ]
     },
     "execution_count": 36,
     "metadata": {},
     "output_type": "execute_result"
    }
   ],
   "source": [
    "cnf_matrix"
   ]
  },
  {
   "cell_type": "code",
   "execution_count": 37,
   "metadata": {},
   "outputs": [
    {
     "data": {
      "image/png": "[encoded data removed]",
      "text/plain": [
       "<Figure size 1080x720 with 2 Axes>"
      ]
     },
     "metadata": {},
     "output_type": "display_data"
    }
   ],
   "source": [
    "fig = plt.figure(figsize = (15,10))\n",
    "ax = fig.add_subplot(111)\n",
    "cax = ax.matshow(cnf_matrix,  cmap = 'Blues')\n",
    "fig.colorbar(cax)\n",
    "ax.set_xticklabels([''] + CATEGORIES)\n",
    "ax.set_yticklabels([''] + CATEGORIES)\n",
    "plt.xlabel('Predicted')\n",
    "plt.ylabel('True')\n",
    "plt.show()"
   ]
  },
  {
   "cell_type": "code",
   "execution_count": 38,
   "metadata": {},
   "outputs": [
    {
     "data": {
      "text/plain": [
       "<matplotlib.axes._subplots.AxesSubplot at 0x7f52781f5d90>"
      ]
     },
     "execution_count": 38,
     "metadata": {},
     "output_type": "execute_result"
    },
    {
     "data": {
      "image/png": "[encoded data removed]",
      "text/plain": [
       "<Figure size 1080x720 with 2 Axes>"
      ]
     },
     "metadata": {},
     "output_type": "display_data"
    }
   ],
   "source": [
    "import seaborn as sn\n",
    "\n",
    "plt.figure(figsize=(15,10))\n",
    "df_cm = pd.DataFrame(cnf_matrix)\n",
    "\n",
    "sn.set(font_scale=1.15) # for label size\n",
    "sn.heatmap(df_cm, annot=True, cmap = 'Greens',annot_kws={\"size\": 9}) # font size"
   ]
  },
  {
   "cell_type": "code",
   "execution_count": null,
   "metadata": {},
   "outputs": [],
   "source": []
  }
 ],
 "metadata": {
  "kernelspec": {
   "display_name": "Python 3",
   "language": "python",
   "name": "python3"
  },
  "language_info": {
   "codemirror_mode": {
    "name": "ipython",
    "version": 3
   },
   "file_extension": ".py",
   "mimetype": "text/x-python",
   "name": "python",
   "nbconvert_exporter": "python",
   "pygments_lexer": "ipython3",
   "version": "3.7.4"
  }
 },
 "nbformat": 4,
 "nbformat_minor": 4
}
